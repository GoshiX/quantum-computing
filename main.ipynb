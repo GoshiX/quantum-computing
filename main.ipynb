{
 "cells": [
  {
   "cell_type": "markdown",
   "metadata": {},
   "source": [
    "Install library for QC"
   ]
  },
  {
   "cell_type": "code",
   "execution_count": 481,
   "metadata": {},
   "outputs": [
    {
     "name": "stdout",
     "output_type": "stream",
     "text": [
      "Requirement already satisfied: dwave-ocean-sdk in ./.venv/lib/python3.13/site-packages (8.3.0)\n",
      "Requirement already satisfied: dimod==0.12.20 in ./.venv/lib/python3.13/site-packages (from dwave-ocean-sdk) (0.12.20)\n",
      "Requirement already satisfied: dwave-cloud-client==0.13.4 in ./.venv/lib/python3.13/site-packages (from dwave-ocean-sdk) (0.13.4)\n",
      "Requirement already satisfied: dwave-gate==0.3.3 in ./.venv/lib/python3.13/site-packages (from dwave-ocean-sdk) (0.3.3)\n",
      "Requirement already satisfied: dwave-hybrid==0.6.14 in ./.venv/lib/python3.13/site-packages (from dwave-ocean-sdk) (0.6.14)\n",
      "Requirement already satisfied: dwave-inspector==0.5.3 in ./.venv/lib/python3.13/site-packages (from dwave-ocean-sdk) (0.5.3)\n",
      "Requirement already satisfied: dwave-networkx==0.8.17 in ./.venv/lib/python3.13/site-packages (from dwave-ocean-sdk) (0.8.17)\n",
      "Requirement already satisfied: dwave-optimization==0.6.0 in ./.venv/lib/python3.13/site-packages (from dwave-ocean-sdk) (0.6.0)\n",
      "Requirement already satisfied: dwave-preprocessing==0.6.8 in ./.venv/lib/python3.13/site-packages (from dwave-ocean-sdk) (0.6.8)\n",
      "Requirement already satisfied: dwave-samplers==1.5.0 in ./.venv/lib/python3.13/site-packages (from dwave-ocean-sdk) (1.5.0)\n",
      "Requirement already satisfied: dwave-system==1.30.0 in ./.venv/lib/python3.13/site-packages (from dwave-ocean-sdk) (1.30.0)\n",
      "Requirement already satisfied: dwavebinarycsp==0.3.1 in ./.venv/lib/python3.13/site-packages (from dwave-ocean-sdk) (0.3.1)\n",
      "Requirement already satisfied: minorminer==0.2.18 in ./.venv/lib/python3.13/site-packages (from dwave-ocean-sdk) (0.2.18)\n",
      "Requirement already satisfied: penaltymodel==1.2.0 in ./.venv/lib/python3.13/site-packages (from dwave-ocean-sdk) (1.2.0)\n",
      "Requirement already satisfied: numpy>=1.17.3 in ./.venv/lib/python3.13/site-packages (from dimod==0.12.20->dwave-ocean-sdk) (2.2.4)\n",
      "Requirement already satisfied: requests<3,>=2.25 in ./.venv/lib/python3.13/site-packages (from requests[socks]<3,>=2.25->dwave-cloud-client==0.13.4->dwave-ocean-sdk) (2.32.3)\n",
      "Requirement already satisfied: urllib3<3,>=1.26 in ./.venv/lib/python3.13/site-packages (from dwave-cloud-client==0.13.4->dwave-ocean-sdk) (2.4.0)\n",
      "Requirement already satisfied: pydantic<3,>=2 in ./.venv/lib/python3.13/site-packages (from dwave-cloud-client==0.13.4->dwave-ocean-sdk) (2.11.3)\n",
      "Requirement already satisfied: homebase<2,>=1.0 in ./.venv/lib/python3.13/site-packages (from dwave-cloud-client==0.13.4->dwave-ocean-sdk) (1.0.1)\n",
      "Requirement already satisfied: click<9,>=7.0 in ./.venv/lib/python3.13/site-packages (from dwave-cloud-client==0.13.4->dwave-ocean-sdk) (8.1.8)\n",
      "Requirement already satisfied: python-dateutil<3,>=2.7 in ./.venv/lib/python3.13/site-packages (from dwave-cloud-client==0.13.4->dwave-ocean-sdk) (2.9.0.post0)\n",
      "Requirement already satisfied: plucky<0.5,>=0.4.3 in ./.venv/lib/python3.13/site-packages (from dwave-cloud-client==0.13.4->dwave-ocean-sdk) (0.4.3)\n",
      "Requirement already satisfied: diskcache<6,>=5.2.1 in ./.venv/lib/python3.13/site-packages (from dwave-cloud-client==0.13.4->dwave-ocean-sdk) (5.6.3)\n",
      "Requirement already satisfied: packaging>=19 in ./.venv/lib/python3.13/site-packages (from dwave-cloud-client==0.13.4->dwave-ocean-sdk) (24.2)\n",
      "Requirement already satisfied: werkzeug<4,>=2.2 in ./.venv/lib/python3.13/site-packages (from dwave-cloud-client==0.13.4->dwave-ocean-sdk) (3.1.3)\n",
      "Requirement already satisfied: typing-extensions<5,>=4.5.0 in ./.venv/lib/python3.13/site-packages (from dwave-cloud-client==0.13.4->dwave-ocean-sdk) (4.13.2)\n",
      "Requirement already satisfied: authlib<2,>=1.2 in ./.venv/lib/python3.13/site-packages (from dwave-cloud-client==0.13.4->dwave-ocean-sdk) (1.5.2)\n",
      "Requirement already satisfied: importlib_metadata>=5.0.0 in ./.venv/lib/python3.13/site-packages (from dwave-cloud-client==0.13.4->dwave-ocean-sdk) (8.6.1)\n",
      "Requirement already satisfied: orjson>=3.10 in ./.venv/lib/python3.13/site-packages (from dwave-cloud-client==0.13.4->dwave-ocean-sdk) (3.10.16)\n",
      "Requirement already satisfied: networkx in ./.venv/lib/python3.13/site-packages (from dwave-hybrid==0.6.14->dwave-ocean-sdk) (3.4.2)\n",
      "Requirement already satisfied: Flask<4,>=2.2 in ./.venv/lib/python3.13/site-packages (from dwave-inspector==0.5.3->dwave-ocean-sdk) (3.1.0)\n",
      "Requirement already satisfied: scipy>=1.7.3 in ./.venv/lib/python3.13/site-packages (from dwave-system==1.30.0->dwave-ocean-sdk) (1.15.2)\n",
      "Requirement already satisfied: fasteners>=0.15 in ./.venv/lib/python3.13/site-packages (from minorminer==0.2.18->dwave-ocean-sdk) (0.19)\n",
      "Requirement already satisfied: cryptography in ./.venv/lib/python3.13/site-packages (from authlib<2,>=1.2->dwave-cloud-client==0.13.4->dwave-ocean-sdk) (44.0.2)\n",
      "Requirement already satisfied: Jinja2>=3.1.2 in ./.venv/lib/python3.13/site-packages (from Flask<4,>=2.2->dwave-inspector==0.5.3->dwave-ocean-sdk) (3.1.6)\n",
      "Requirement already satisfied: itsdangerous>=2.2 in ./.venv/lib/python3.13/site-packages (from Flask<4,>=2.2->dwave-inspector==0.5.3->dwave-ocean-sdk) (2.2.0)\n",
      "Requirement already satisfied: blinker>=1.9 in ./.venv/lib/python3.13/site-packages (from Flask<4,>=2.2->dwave-inspector==0.5.3->dwave-ocean-sdk) (1.9.0)\n",
      "Requirement already satisfied: zipp>=3.20 in ./.venv/lib/python3.13/site-packages (from importlib_metadata>=5.0.0->dwave-cloud-client==0.13.4->dwave-ocean-sdk) (3.21.0)\n",
      "Requirement already satisfied: annotated-types>=0.6.0 in ./.venv/lib/python3.13/site-packages (from pydantic<3,>=2->dwave-cloud-client==0.13.4->dwave-ocean-sdk) (0.7.0)\n",
      "Requirement already satisfied: pydantic-core==2.33.1 in ./.venv/lib/python3.13/site-packages (from pydantic<3,>=2->dwave-cloud-client==0.13.4->dwave-ocean-sdk) (2.33.1)\n",
      "Requirement already satisfied: typing-inspection>=0.4.0 in ./.venv/lib/python3.13/site-packages (from pydantic<3,>=2->dwave-cloud-client==0.13.4->dwave-ocean-sdk) (0.4.0)\n",
      "Requirement already satisfied: six>=1.5 in ./.venv/lib/python3.13/site-packages (from python-dateutil<3,>=2.7->dwave-cloud-client==0.13.4->dwave-ocean-sdk) (1.17.0)\n",
      "Requirement already satisfied: charset-normalizer<4,>=2 in ./.venv/lib/python3.13/site-packages (from requests<3,>=2.25->requests[socks]<3,>=2.25->dwave-cloud-client==0.13.4->dwave-ocean-sdk) (3.4.1)\n",
      "Requirement already satisfied: idna<4,>=2.5 in ./.venv/lib/python3.13/site-packages (from requests<3,>=2.25->requests[socks]<3,>=2.25->dwave-cloud-client==0.13.4->dwave-ocean-sdk) (3.10)\n",
      "Requirement already satisfied: certifi>=2017.4.17 in ./.venv/lib/python3.13/site-packages (from requests<3,>=2.25->requests[socks]<3,>=2.25->dwave-cloud-client==0.13.4->dwave-ocean-sdk) (2025.1.31)\n",
      "Requirement already satisfied: PySocks!=1.5.7,>=1.5.6 in ./.venv/lib/python3.13/site-packages (from requests[socks]<3,>=2.25->dwave-cloud-client==0.13.4->dwave-ocean-sdk) (1.7.1)\n",
      "Requirement already satisfied: MarkupSafe>=2.1.1 in ./.venv/lib/python3.13/site-packages (from werkzeug<4,>=2.2->dwave-cloud-client==0.13.4->dwave-ocean-sdk) (3.0.2)\n",
      "Requirement already satisfied: cffi>=1.12 in ./.venv/lib/python3.13/site-packages (from cryptography->authlib<2,>=1.2->dwave-cloud-client==0.13.4->dwave-ocean-sdk) (1.17.1)\n",
      "Requirement already satisfied: pycparser in ./.venv/lib/python3.13/site-packages (from cffi>=1.12->cryptography->authlib<2,>=1.2->dwave-cloud-client==0.13.4->dwave-ocean-sdk) (2.22)\n",
      "Note: you may need to restart the kernel to use updated packages.\n",
      "Requirement already satisfied: dwave-neal in ./.venv/lib/python3.13/site-packages (0.6.0)\n",
      "Requirement already satisfied: dwave-samplers<2.0.0,>=1.0.0 in ./.venv/lib/python3.13/site-packages (from dwave-neal) (1.5.0)\n",
      "Requirement already satisfied: numpy<3.0.0,>=1.19.0 in ./.venv/lib/python3.13/site-packages (from dwave-samplers<2.0.0,>=1.0.0->dwave-neal) (2.2.4)\n",
      "Requirement already satisfied: dimod<0.13.0,>=0.12.13 in ./.venv/lib/python3.13/site-packages (from dwave-samplers<2.0.0,>=1.0.0->dwave-neal) (0.12.20)\n",
      "Requirement already satisfied: networkx>=3.0 in ./.venv/lib/python3.13/site-packages (from dwave-samplers<2.0.0,>=1.0.0->dwave-neal) (3.4.2)\n",
      "Note: you may need to restart the kernel to use updated packages.\n"
     ]
    }
   ],
   "source": [
    "%pip install dwave-ocean-sdk\n",
    "%pip install dwave-neal"
   ]
  },
  {
   "cell_type": "markdown",
   "metadata": {},
   "source": [
    "Подключим все необходимые библиотеки"
   ]
  },
  {
   "cell_type": "code",
   "execution_count": 1,
   "metadata": {},
   "outputs": [],
   "source": [
    "import random\n",
    "import math\n",
    "import itertools\n",
    "import numpy as np\n",
    "\n",
    "import dimod\n",
    "from dimod import BinaryQuadraticModel\n",
    "from dimod.reference.samplers import ExactSolver\n",
    "from neal import SimulatedAnnealingSampler\n",
    "from qdeepsdk import QDeepHybridSolver"
   ]
  },
  {
   "cell_type": "markdown",
   "metadata": {},
   "source": [
    "Сгенерируем случайные данные"
   ]
  },
  {
   "cell_type": "code",
   "execution_count": 2,
   "metadata": {},
   "outputs": [],
   "source": [
    "class Point:\n",
    "    def __init__(self, x, y):\n",
    "        self.x = x\n",
    "        self.y = y\n",
    "\n",
    "def distance(p1: Point, p2: Point) -> int:\n",
    "    return math.sqrt((p1.x - p2.x)**2 + (p1.y - p2.y)**2)\n",
    "\n",
    "class TestCase:\n",
    "    def __init__(self):\n",
    "        self.ClientsNum = 0\n",
    "        self.DepotsNum = 0\n",
    "        self.CarsNum = 0\n",
    "        self.ClientPositions = []\n",
    "        self.DepotPositions = []\n",
    "        self.CarDepot = []\n",
    "        self.CarDepotMap = {}\n",
    "\n",
    "    def DistClients(self, i: int, j: int) -> int:\n",
    "        return distance(self.ClientPositions[i], self.ClientPositions[j])\n",
    "    \n",
    "    def DistDepotClient(self, d: int, c: int) -> int:\n",
    "        return distance(self.DepotPositions[d], self.ClientPositions[c])\n",
    "\n",
    "def GenerateTestCase(clientsNum: int, depotsNum: int, carsNum: int, maxPos: int)-> TestCase:\n",
    "\n",
    "    if carsNum < depotsNum:\n",
    "        raise Exception(\"Cars number is less than depots number\")\n",
    "\n",
    "    res = TestCase()\n",
    "    res.ClientsNum = clientsNum\n",
    "    res.DepotsNum = depotsNum\n",
    "    res.CarsNum = carsNum\n",
    "    res.CarDepot = [[0 for _ in range(depotsNum)] for _ in range(carsNum)]\n",
    "\n",
    "    for i in range(clientsNum):\n",
    "        res.ClientPositions.append(Point(random.randint(0, maxPos), random.randint(0, maxPos)))\n",
    "\n",
    "    for i in range(depotsNum):\n",
    "        res.DepotPositions.append(Point(random.randint(0, maxPos), random.randint(0, maxPos)))\n",
    "\n",
    "    for i in range(depotsNum):\n",
    "        res.CarDepot[i][i] = 1\n",
    "        res.CarDepotMap[i] = i\n",
    "\n",
    "    for i in range(depotsNum, carsNum):\n",
    "        depot = random.randint(0, depotsNum - 1)\n",
    "        res.CarDepot[i][depot] = 1\n",
    "        res.CarDepotMap[i] = depot\n",
    "\n",
    "    return res"
   ]
  },
  {
   "cell_type": "markdown",
   "metadata": {},
   "source": [
    "Напишем функцию для раскрытия выражения вида $(a_1 + a_2 + ... + a_n)^2$, потому что почти все ограничения к этому сводятся"
   ]
  },
  {
   "cell_type": "code",
   "execution_count": 3,
   "metadata": {},
   "outputs": [
    {
     "name": "stdout",
     "output_type": "stream",
     "text": [
      "({'x1': 3, 'x3': 0}, {('x1', 'x3'): -2, ('x3', 'x1'): -2})\n"
     ]
    }
   ],
   "source": [
    "# Input [(1, \"x1\"), (-2, \"x3\")]\n",
    "# Output ({\"x1\": 1, \"x3\": 4}, {(\"x1\", \"x3\"): -4})\n",
    "def square(vals: list)-> tuple:\n",
    "\n",
    "    res = ({}, {})\n",
    "\n",
    "    for val in vals:\n",
    "        if val[1] != \"\":\n",
    "            if val[1] not in res[0].keys():\n",
    "                res[0][val[1]] = 0\n",
    "            res[0][val[1]] += val[0] * val[0]\n",
    "        \n",
    "    for v1 in vals:\n",
    "        for v2 in vals:\n",
    "            if v1[1] == v2[1]:\n",
    "                continue\n",
    "            if v1[1] == \"\" and v2[1] == \"\":\n",
    "                continue\n",
    "\n",
    "            if v1[1] != \"\" and v2[1] != \"\":\n",
    "                if (v1[1], v2[1]) not in res[1].keys():\n",
    "                    res[1][(v1[1], v2[1])] = 0\n",
    "                res[1][(v1[1], v2[1])] += v1[0] * v2[0]\n",
    "            else:\n",
    "                if v1[1]+v2[1] not in res[0].keys():\n",
    "                    res[0][v1[1]+v2[1]] = 0\n",
    "                res[0][v1[1]+v2[1]] += v1[0] * v2[0]\n",
    "\n",
    "    return res\n",
    "\n",
    "print(square([(1, \"x1\"), (-2, \"x3\"), (1, \"\")]))"
   ]
  },
  {
   "cell_type": "markdown",
   "metadata": {},
   "source": [
    "Создадим класс модели QUBO:"
   ]
  },
  {
   "cell_type": "code",
   "execution_count": 14,
   "metadata": {},
   "outputs": [],
   "source": [
    "class QUBOModel:\n",
    "    def __init__(self):\n",
    "        self.h = {}\n",
    "        self.J = {}\n",
    "        self.BigConstant = 1000000\n",
    "        self.id = 0 # serail key for constructing values in inequalities\n",
    "\n",
    "    def AddCoef(self, coefs: tuple):\n",
    "        for key in coefs[0]:\n",
    "            if key not in self.h.keys():\n",
    "                self.h[key] = 0\n",
    "            self.h[key] += coefs[0][key]\n",
    "        \n",
    "        for key in coefs[1]:\n",
    "            if key not in self.J.keys():\n",
    "                self.J[key] = 0\n",
    "            self.J[key] += coefs[1][key]\n",
    "\n",
    "    def PrepareCoefs(self):\n",
    "        for k1 in self.h.keys():\n",
    "            for k2 in self.h.keys():\n",
    "                if k1 != k2 and (k1, k2) in self.J.keys() and (k2, k1) in self.J.keys():\n",
    "                    self.J[(k1, k2)] += self.J[(k2, k1)]\n",
    "                    del self.J[(k2, k1)]\n",
    "\n",
    "    def GetLists(self)-> tuple:\n",
    "        self.PrepareCoefs()\n",
    "        return (self.h, self.J)\n",
    "\n",
    "    def GetMatrix(self)-> tuple: # matrix (QUBO) + list (pos->argname) + map (argname->pos)\n",
    "        self.PrepareCoefs()\n",
    "        NamesArr = self.h.keys()\n",
    "        NamesMap = {}\n",
    "        for i in range(len(NamesArr)):\n",
    "            NamesMap[NamesArr[i]] = i\n",
    "\n",
    "        Matrix = np.zeros((len(NamesArr), len(NamesArr)), dtype=int)\n",
    "\n",
    "        for key in self.h:\n",
    "            Matrix[NamesMap[key]][NamesMap[key]] = self.h[key]\n",
    "\n",
    "        for key in self.J:\n",
    "            Matrix[NamesMap[key[0]]][NamesMap[key[1]]] = self.J[key]\n",
    "\n",
    "        return (Matrix, NamesArr, NamesMap)\n",
    "    \n",
    "qubo = QUBOModel()"
   ]
  },
  {
   "cell_type": "markdown",
   "metadata": {},
   "source": [
    "_Целевая функция:_ Функия описывающая издержки для передвижения всех машин. Данную функцию мы хотим минимизировать."
   ]
  },
  {
   "cell_type": "code",
   "execution_count": 6,
   "metadata": {},
   "outputs": [],
   "source": [
    "def min_func(test: TestCase, model: QUBOModel):\n",
    "    for k in range(test.CarsNum):\n",
    "        for i in range(test.ClientsNum):\n",
    "            for j in range(test.ClientsNum):\n",
    "                model.AddCoef(({test.DistClients(i, j), f\"x{i}{j}{k}\"}, {}))\n",
    "\n",
    "    for k in range(test.CarsNum):\n",
    "        for i in range (test.ClientsNum):\n",
    "            for d in range(test.DepotsNum):\n",
    "                model.AddCoef(({test.DistDepotClient(d, i)*test.CarDepot[k][d], f\"u{i}{k}\"}, {}))\n",
    "\n",
    "    for k in range(test.CarsNum):\n",
    "        for i in range (test.ClientsNum):\n",
    "            for d in range(test.DepotsNum):\n",
    "                model.AddCoef(({test.DistDepotClient(d, i)*test.CarDepot[k][d], f\"n{i}{k}\"}, {}))"
   ]
  },
  {
   "cell_type": "markdown",
   "metadata": {},
   "source": [
    "_Ограничение 1:_ Нельзя поехать к тому же покупателю."
   ]
  },
  {
   "cell_type": "code",
   "execution_count": 7,
   "metadata": {},
   "outputs": [],
   "source": [
    "def constrint_1(test: TestCase, model: QUBOModel):\n",
    "    for i in range(test.ClientsNum):\n",
    "        for k in range(test.CarsNum):\n",
    "            model.AddCoef(({model.BigConstant, f\"x{i}{i}{k}\"}, {}))"
   ]
  },
  {
   "cell_type": "markdown",
   "metadata": {},
   "source": [
    "_Ограничение 2:_ К каждому покупателю должна приехать ровно одна машина."
   ]
  },
  {
   "cell_type": "code",
   "execution_count": 8,
   "metadata": {},
   "outputs": [],
   "source": [
    "def constraint_2(test: TestCase, model: QUBOModel):\n",
    "    for i in range(test.ClientsNum):\n",
    "\n",
    "        vals = []\n",
    "        vals.append((model.BigConstant, \"\"))\n",
    "\n",
    "        for k in range(test.CarsNum):\n",
    "            for j in range(test.ClientsNum):\n",
    "                vals.append((-model.BigConstant, f\"x{j}{i}{k}\"))\n",
    "            vals.append((-model.BigConstant, f\"u{i}{k}\"))\n",
    "\n",
    "        model.AddCoef(square(vals))"
   ]
  },
  {
   "cell_type": "markdown",
   "metadata": {},
   "source": [
    "_Ограничение 3:_ От каждого покупателя должна уехать ровно одна машина."
   ]
  },
  {
   "cell_type": "code",
   "execution_count": 9,
   "metadata": {},
   "outputs": [],
   "source": [
    "def constraint_3(test: TestCase, model: QUBOModel):\n",
    "    for i in range(test.ClientsNum):\n",
    "\n",
    "        vals = []\n",
    "\n",
    "        vals.append((model.BigConstant, \"\"))\n",
    "\n",
    "        for k in range(test.CarsNum):\n",
    "            for j in range(test.ClientsNum):\n",
    "                vals.append((-model.BigConstant, f\"x{i}{j}{k}\"))\n",
    "            vals.append((-model.BigConstant, f\"n{i}{k}\"))\n",
    "\n",
    "        model.AddCoef(square(vals))"
   ]
  },
  {
   "cell_type": "markdown",
   "metadata": {},
   "source": [
    "_Ограничение 4:_ Каждая машина должна отъехать ровно с одного склада."
   ]
  },
  {
   "cell_type": "code",
   "execution_count": 11,
   "metadata": {},
   "outputs": [],
   "source": [
    "def constraint_4(test: TestCase, model: QUBOModel):\n",
    "    for k in range(test.CarsNum):\n",
    "\n",
    "        vals = []\n",
    "\n",
    "        vals.append((model.BigConstant, \"\"))\n",
    "\n",
    "        for i in range(test.ClientsNum):\n",
    "            vals.append((-model.BigConstant, f\"u{i}{k}\"))\n",
    "\n",
    "        model.AddCoef(square(vals))"
   ]
  },
  {
   "cell_type": "markdown",
   "metadata": {},
   "source": [
    "_Ограничение 5:_ Каждая машина должна приехать ровно на один склад."
   ]
  },
  {
   "cell_type": "code",
   "execution_count": 12,
   "metadata": {},
   "outputs": [],
   "source": [
    "def constraint_5(test: TestCase, model: QUBOModel):\n",
    "    for k in range(test.CarsNum):\n",
    "\n",
    "        vals = []\n",
    "\n",
    "        vals.append((model.BigConstant, \"\"))\n",
    "\n",
    "        for i in range(test.ClientsNum):\n",
    "            vals.append((-model.BigConstant, f\"n{i}{k}\"))\n",
    "\n",
    "        model.AddCoef(square(vals))"
   ]
  },
  {
   "cell_type": "markdown",
   "metadata": {},
   "source": [
    "_Ограничение 6:_ \"Целостность маршрута\". Если машина приехала к покупателю, то она должна уехать от него."
   ]
  },
  {
   "cell_type": "code",
   "execution_count": 13,
   "metadata": {},
   "outputs": [],
   "source": [
    "def constraint_6(test: TestCase, model: QUBOModel):\n",
    "    for i in range(test.ClientsNum):\n",
    "        for k in range(test.CarsNum):\n",
    "            \n",
    "            vals = []\n",
    "\n",
    "            vals.append((test.BigConstant, f\"u{i}{k}\"))\n",
    "            vals.append((-test.BigConstant, f\"n{i}{k}\"))\n",
    "\n",
    "            for j in range(test.ClientsNum):\n",
    "                vals.append((test.BigConstant, f\"x{j}{i}{k}\"))\n",
    "                vals.append((-test.BigConstant, f\"x{i}{j}{k}\"))\n",
    "\n",
    "            model.AddCoef(square(vals))"
   ]
  },
  {
   "cell_type": "markdown",
   "metadata": {},
   "source": [
    "_Ограничение 7:_ У машин не должно быть возможности иметь на своем маршруте цикл из городов, который они не посещают."
   ]
  },
  {
   "cell_type": "code",
   "execution_count": 15,
   "metadata": {},
   "outputs": [],
   "source": [
    "def get_subsets(n):\n",
    "    res = []\n",
    "    for i in range(1 << n):\n",
    "        cur = []\n",
    "        for j in range(n):\n",
    "            if (i & (1 << j)):\n",
    "                cur.append(j)\n",
    "        res.append(cur)\n",
    "    return res\n",
    "\n",
    "def constraint_7(test: TestCase, model: QUBOModel):\n",
    "    for S in get_subsets(test.ClientsNum):\n",
    "        if len(S) >= 2:\n",
    "\n",
    "            vals = []\n",
    "\n",
    "            vals.append((model.BigConstant * (-len(S) + 1), \"\"))\n",
    "\n",
    "            for k in range(test.CarsNum):\n",
    "                for i in S:\n",
    "                    for j in S:\n",
    "                        if i != j:\n",
    "                            vals.append((model.BigConstant, f\"x{i}{j}{k}\"))\n",
    "\n",
    "            for l in range(math.ceil(math.log2(len(S)))):\n",
    "                \n",
    "                model.id += 1\n",
    "                model.h[f\"l{model.id}\"] = 0\n",
    "                vals.append((2**l * model.BigConstant, f\"l{model.id}\"))\n",
    "\n",
    "            model.AddCoef(square(vals))"
   ]
  },
  {
   "cell_type": "markdown",
   "metadata": {},
   "source": [
    "_Ограничение 10:_ Аналогичное ограничению 7, но работающее быстрее :)"
   ]
  },
  {
   "cell_type": "code",
   "execution_count": null,
   "metadata": {},
   "outputs": [],
   "source": [
    "def constraint_10(test: TestCase, model: QUBOModel):\n",
    "    log_t = math.ceil(math.log2(test.ClientsNum + 1))\n",
    "\n",
    "    for i in range(test.ClientsNum):\n",
    "        for j in range(test.ClientsNum):\n",
    "\n",
    "            vals = []\n",
    "            vals.append((model.BigConstant * (-test.ClientsNum + 1), \"\"))\n",
    "            "
   ]
  },
  {
   "cell_type": "markdown",
   "metadata": {},
   "source": [
    "Запустим квантовый отжиг"
   ]
  },
  {
   "cell_type": "code",
   "execution_count": 495,
   "metadata": {},
   "outputs": [
    {
     "name": "stdout",
     "output_type": "stream",
     "text": [
      "Min energy: -366999999990298.0\n",
      "Optimizing parameters amount: 202\n",
      "Car 0: Depot -> 5, distance: 1047\n",
      "Car 0: 1 -> 2, distance: 3447\n",
      "Car 0: 3 -> 4, distance: 1783\n",
      "Car 0: 4 -> 1, distance: 652\n",
      "Car 0: 5 -> 3, distance: 1123\n",
      "Car 0: 2 -> Depot, distance: 327\n",
      "Car 1: Depot -> 0, distance: 665\n",
      "Car 1: 0 -> Depot, distance: 665\n",
      "Answer:  9709\n"
     ]
    }
   ],
   "source": [
    "bqm = BinaryQuadraticModel(h, J, 'BINARY')\n",
    "\n",
    "min_energy = 0\n",
    "answer = {}\n",
    "\n",
    "# Exact solver\n",
    "\n",
    "\n",
    "# solution = ExactSolver().sample(bqm)\n",
    "# print(\"ANSWER:\", solution.first.energy)\n",
    "# print(solution.first.sample)\n",
    "\n",
    "# min_energy = solution.first.energy\n",
    "# answer = solution.first.sample\n",
    "\n",
    "\n",
    "# End Exact solver\n",
    "\n",
    "for _ in range(10000):\n",
    "    sample = SimulatedAnnealingSampler().sample(bqm, num_reads=1)\n",
    "    if sample.first.energy < min_energy:\n",
    "        min_energy = sample.first.energy\n",
    "        answer = sample.first.sample\n",
    "\n",
    "print(\"Min energy:\", min_energy)\n",
    "print(\"Optimizing parameters amount:\", len(h.keys()))\n",
    "\n",
    "total_distance = 0\n",
    "\n",
    "for k in range(CarsNum):\n",
    "\n",
    "    for i in range(ClientsNum):\n",
    "        if answer[f\"u{i}{k}\"] == 1:\n",
    "            total_distance += Distances[i][ClientsNum + CarDepotMap[k]]\n",
    "            print(f\"Car {k}: Depot -> {i}, distance: {Distances[i][ClientsNum + CarDepotMap[k]]}\")\n",
    "\n",
    "    for i in range(ClientsNum):\n",
    "        for j in range(ClientsNum):\n",
    "            if answer[f\"x{i}{j}{k}\"] == 1:\n",
    "                total_distance += Distances[i][j]\n",
    "                print(f\"Car {k}: {i} -> {j}, distance: {Distances[i][j]}\")\n",
    "\n",
    "    for i in range(ClientsNum):\n",
    "        if answer[f\"n{i}{k}\"] == 1:\n",
    "            total_distance += Distances[i][ClientsNum + CarDepotMap[k]]\n",
    "            print(f\"Car {k}: {i} -> Depot, distance: {Distances[i][ClientsNum + CarDepotMap[k]]}\")\n",
    "\n",
    "\n",
    "print(\"Answer: \", total_distance)"
   ]
  },
  {
   "cell_type": "markdown",
   "metadata": {},
   "source": [
    "Давайте вычислим ответ полным перебором"
   ]
  },
  {
   "cell_type": "code",
   "execution_count": 496,
   "metadata": {},
   "outputs": [
    {
     "name": "stdout",
     "output_type": "stream",
     "text": [
      "Answer Complete Search: 10579\n"
     ]
    }
   ],
   "source": [
    "answer_complete_search = BigConstant\n",
    "\n",
    "for perm in itertools.permutations(list(range(ClientsNum))):\n",
    "    dist = Distances[perm[0]][ClientsNum] + Distances[perm[-1]][ClientsNum]\n",
    "    for i in range(len(perm) - 1):\n",
    "        dist += Distances[perm[i]][perm[i + 1]]\n",
    "\n",
    "    answer_complete_search = min(answer_complete_search, dist)\n",
    "\n",
    "print(\"Answer Complete Search:\", answer_complete_search)"
   ]
  },
  {
   "cell_type": "markdown",
   "metadata": {},
   "source": [
    "Решим задачу используя QDeepSDK"
   ]
  },
  {
   "cell_type": "code",
   "execution_count": null,
   "metadata": {},
   "outputs": [
    {
     "name": "stdout",
     "output_type": "stream",
     "text": [
      "Energy:  -334000010821632\n",
      "Parameters amount: 202\n",
      "Car 0: Depot -> 1, distance: 895\n",
      "Car 0: 1 -> Depot, distance: 895\n",
      "Car 1: Depot -> 3, distance: 3988\n",
      "Car 1: 0 -> 0, distance: 0\n",
      "Car 1: 3 -> 2, distance: 2151\n",
      "Car 1: 3 -> 5, distance: 1123\n",
      "Car 1: 5 -> 3, distance: 1123\n",
      "Car 1: 2 -> Depot, distance: 327\n",
      "Answer QDeep:  10502\n"
     ]
    }
   ],
   "source": [
    "solver = QDeepHybridSolver()\n",
    "solver.m_budget = 1000\n",
    "solver.num_reads = 5000\n",
    "solver.token = \"hf6si03meu\"\n",
    "\n",
    "keys_array = list(h.keys())\n",
    "keys_map = {}\n",
    "for i in range(len(keys_array)):\n",
    "    keys_map[keys_array[i]] = i\n",
    "\n",
    "matrix = np.zeros((len(keys_array), len(keys_array)), dtype=int)\n",
    "\n",
    "for key in h:\n",
    "    matrix[keys_map[key]][keys_map[key]] = h[key]\n",
    "\n",
    "for key in J:\n",
    "    matrix[keys_map[key[0]]][keys_map[key[1]]] = J[key]\n",
    "\n",
    "resp = solver.solve(matrix)\n",
    "res = resp['QdeepHybridSolver']['configuration']\n",
    "\n",
    "print(\"Energy: \", resp['QdeepHybridSolver']['energy'])\n",
    "\n",
    "print(\"Parameters amount:\", len(res))\n",
    "\n",
    "total_distance = 0\n",
    "\n",
    "for k in range(CarsNum):\n",
    "\n",
    "    for i in range(ClientsNum):\n",
    "        if res[keys_map[f\"u{i}{k}\"]] == 1:\n",
    "            total_distance += Distances[i][ClientsNum + CarDepotMap[k]]\n",
    "            print(f\"Car {k}: Depot -> {i}, distance: {Distances[i][ClientsNum + CarDepotMap[k]]}\")\n",
    "\n",
    "    for i in range(ClientsNum):\n",
    "        for j in range(ClientsNum):\n",
    "            if res[keys_map[f\"x{i}{j}{k}\"]] == 1:\n",
    "                total_distance += Distances[i][j]\n",
    "                print(f\"Car {k}: {i} -> {j}, distance: {Distances[i][j]}\")\n",
    "\n",
    "    for i in range(ClientsNum):\n",
    "        if res[keys_map[f\"n{i}{k}\"]] == 1:\n",
    "            total_distance += Distances[i][ClientsNum + CarDepotMap[k]]\n",
    "            print(f\"Car {k}: {i} -> Depot, distance: {Distances[i][ClientsNum + CarDepotMap[k]]}\")\n",
    "\n",
    "\n",
    "print(\"Answer QDeep: \", total_distance)"
   ]
  }
 ],
 "metadata": {
  "kernelspec": {
   "display_name": ".venv",
   "language": "python",
   "name": "python3"
  },
  "language_info": {
   "codemirror_mode": {
    "name": "ipython",
    "version": 3
   },
   "file_extension": ".py",
   "mimetype": "text/x-python",
   "name": "python",
   "nbconvert_exporter": "python",
   "pygments_lexer": "ipython3",
   "version": "3.13.2"
  }
 },
 "nbformat": 4,
 "nbformat_minor": 2
}
